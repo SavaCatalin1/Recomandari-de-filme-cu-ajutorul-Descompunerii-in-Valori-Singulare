{
 "cells": [
  {
   "attachments": {},
   "cell_type": "markdown",
   "metadata": {},
   "source": [
    "Recomandari de filme folosind DVS (Descompunerea in valori singulare)\n",
    "\n",
    "Studenti: Sava Catalin-Andrei,\n",
    "          Istrate Angel-Andrei, Grupa: 322AC"
   ]
  },
  {
   "attachments": {},
   "cell_type": "markdown",
   "metadata": {},
   "source": [
    "Citim fisierele \"ratings.dat\" si \"filme.dat\" in doua matrici separate. Acestea contin date despre filme (ID, titlu si categorie) si despre spectatori (ID, ID-ul filmului vizionat, rating si timp)"
   ]
  },
  {
   "cell_type": "code",
   "execution_count": 32,
   "metadata": {},
   "outputs": [],
   "source": [
    "import numpy as np\n",
    "import pandas as pd\n",
    "\n",
    "data = pd.io.parsers.read_csv('ratings.dat', \n",
    "    names=['user_id', 'film_id', 'rating', 'timp'],\n",
    "    engine='python', delimiter='::',encoding='latin-1')\n",
    "film_data = pd.io.parsers.read_csv('filme.dat',\n",
    "    names=['film_id', 'titlu', 'gen'],\n",
    "    engine='python', delimiter='::',encoding='latin-1')"
   ]
  },
  {
   "attachments": {},
   "cell_type": "markdown",
   "metadata": {},
   "source": [
    "Cream o matricea initiala cu filmele pe linii si userii pe coloane"
   ]
  },
  {
   "cell_type": "code",
   "execution_count": 33,
   "metadata": {},
   "outputs": [],
   "source": [
    "ratings_mat = np.ndarray(\n",
    "    shape=(np.max(data.film_id.values), np.max(data.user_id.values)),\n",
    "    dtype=np.uint8)\n",
    "ratings_mat[data.film_id.values-1, data.user_id.values-1] = data.rating.values"
   ]
  },
  {
   "attachments": {},
   "cell_type": "markdown",
   "metadata": {},
   "source": [
    "Normalizam matricea ratings_mat prin scaderea elementelor de pe fiecare linie cu media liniei"
   ]
  },
  {
   "cell_type": "code",
   "execution_count": 34,
   "metadata": {},
   "outputs": [],
   "source": [
    "normalised_mat = ratings_mat - np.asarray([(np.mean(ratings_mat, 1))]).T"
   ]
  },
  {
   "attachments": {},
   "cell_type": "markdown",
   "metadata": {},
   "source": [
    "Punem in aplicare DVS"
   ]
  },
  {
   "cell_type": "code",
   "execution_count": 35,
   "metadata": {},
   "outputs": [],
   "source": [
    "U, S, V = np.linalg.svd(normalised_mat.T)"
   ]
  },
  {
   "attachments": {},
   "cell_type": "markdown",
   "metadata": {},
   "source": [
    "Definim functia de Cosine Similarity"
   ]
  },
  {
   "cell_type": "code",
   "execution_count": 36,
   "metadata": {},
   "outputs": [],
   "source": [
    "def top_cosine_similarity(data, film_id, top_n=10): #Avem nevoie de 3 parametrii: matricea, ID-ul filmului dorit si numarul de recomandari\n",
    "    index = film_id - 1 #ID-ul filmelor incepe de la 1\n",
    "    film_row = data[index, :] #Luam randul filmului dorit si toate coloanele aferente (stocam toate rating-urile filmului)\n",
    "    magnitude = np.sqrt(np.einsum('ij, ij -> i', data, data)) #Calculeaza magnitudinea (adunarea patratelor fiecarui element sub radical)\n",
    "    similarity = np.dot(film_row, data.T) / (magnitude[index] * magnitude) #Aplicam Cosine Similarity\n",
    "    sort_indexes = np.argsort(-similarity) #Sorteaza rezultatele descrescator\n",
    "    return sort_indexes[:top_n] #Returneaza primele n recomandari"
   ]
  },
  {
   "attachments": {},
   "cell_type": "markdown",
   "metadata": {},
   "source": [
    "Folosim aceasta functie ajutatoare pentru a printa rezultatele"
   ]
  },
  {
   "cell_type": "code",
   "execution_count": 37,
   "metadata": {},
   "outputs": [],
   "source": [
    "def print_similar_movies(film_data, film_id, top_indexes):\n",
    "    print('Recommendations for {0}: \\n'.format(film_data[film_data.film_id == film_id].titlu.values[0]))\n",
    "    for id in top_indexes + 1:\n",
    "        print(film_data[film_data.film_id == id].titlu.values[0])"
   ]
  },
  {
   "attachments": {},
   "cell_type": "markdown",
   "metadata": {},
   "source": [
    "Setam variabilele"
   ]
  },
  {
   "cell_type": "code",
   "execution_count": 38,
   "metadata": {},
   "outputs": [],
   "source": [
    "k = 50 #Index pentru date reprezentative\n",
    "film_id = 1 #ID-ul filmului pentru care vrem recomandari\n",
    "top_n = 10 #Primele n recomandari"
   ]
  },
  {
   "attachments": {},
   "cell_type": "markdown",
   "metadata": {},
   "source": [
    "Cream o matrice de date reprezentative pentru a o transmite functiei top_cosine_similarity"
   ]
  },
  {
   "cell_type": "code",
   "execution_count": 39,
   "metadata": {},
   "outputs": [
    {
     "name": "stdout",
     "output_type": "stream",
     "text": [
      "Recommendations for Toy Story (1995): \n",
      "\n",
      "Toy Story (1995)\n",
      "Toy Story 2 (1999)\n",
      "Babe (1995)\n",
      "Bug's Life, A (1998)\n",
      "Pleasantville (1998)\n",
      "Babe: Pig in the City (1998)\n",
      "Aladdin (1992)\n",
      "Stuart Little (1999)\n",
      "Secret Garden, The (1993)\n",
      "Tarzan (1999)\n"
     ]
    },
    {
     "name": "stderr",
     "output_type": "stream",
     "text": [
      "C:\\Users\\Sava\\AppData\\Local\\Temp\\ipykernel_1596\\1224720441.py:5: RuntimeWarning: invalid value encountered in divide\n",
      "  similarity = np.dot(film_row, data.T) / (magnitude[index] * magnitude) #Aplicam Cosine Similarity\n"
     ]
    }
   ],
   "source": [
    "sliced = V.T[:, :k] #Toate liniile si pana la coloana k\n",
    "indexes = top_cosine_similarity(sliced, film_id, top_n) \n",
    "print_similar_movies(film_data, film_id, indexes)"
   ]
  },
  {
   "cell_type": "markdown",
   "metadata": {},
   "source": []
  }
 ],
 "metadata": {
  "kernelspec": {
   "display_name": "Python 3",
   "language": "python",
   "name": "python3"
  },
  "language_info": {
   "codemirror_mode": {
    "name": "ipython",
    "version": 3
   },
   "file_extension": ".py",
   "mimetype": "text/x-python",
   "name": "python",
   "nbconvert_exporter": "python",
   "pygments_lexer": "ipython3",
   "version": "3.10.9"
  },
  "orig_nbformat": 4,
  "vscode": {
   "interpreter": {
    "hash": "49dcfb1235680d594542c91988afd5c7665491ca06ec33e6ae945e8082c7f71b"
   }
  }
 },
 "nbformat": 4,
 "nbformat_minor": 2
}
